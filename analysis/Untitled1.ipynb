{
 "cells": [
  {
   "cell_type": "code",
   "execution_count": 522,
   "id": "99ae591b-bd36-4968-8a45-378d62d17bb1",
   "metadata": {},
   "outputs": [
    {
     "name": "stdout",
     "output_type": "stream",
     "text": [
      "Column: Name, Missing Values: 2\n",
      "Column: Price, Missing Values: 2\n",
      "Column: RAM_Expandable, Missing Values: 2\n",
      "Column: RAM_TYPE, Missing Values: 2\n",
      "Column: Ghz, Missing Values: 2\n",
      "Column: Display_type, Missing Values: 2\n",
      "Column: Display, Missing Values: 2\n",
      "Column: ram, Missing Values: 2\n"
     ]
    }
   ],
   "source": [
    "import pandas as pd\n",
    "\n",
    "# Load the dataset\n",
    "file_path = 'C:/Users/thanm/fixed_augmented_laptop_data.csv'\n",
    "data = pd.read_csv(file_path)\n",
    "\n",
    "# Identify columns with missing values\n",
    "missing_columns = data.columns[data.isnull().any()]\n",
    "\n",
    "# Print columns with the count of missing values\n",
    "for col in missing_columns:\n",
    "    print(f\"Column: {col}, Missing Values: {data[col].isnull().sum()}\")\n"
   ]
  },
  {
   "cell_type": "code",
   "execution_count": 524,
   "id": "e785a80f-3905-41d0-8b2a-9e15087df51c",
   "metadata": {},
   "outputs": [],
   "source": [
    "# Replace missing values\n",
    "# For numerical columns, fill missing values with the mean\n",
    "numerical_columns = data.select_dtypes(include=['number']).columns\n",
    "data[numerical_columns] = data[numerical_columns].fillna(data[numerical_columns].mean())\n",
    "\n",
    "# For categorical columns, fill missing values with the mode\n",
    "categorical_columns = data.select_dtypes(include=['object']).columns\n",
    "for col in categorical_columns:\n",
    "    data[col] = data[col].fillna(data[col].mode()[0])\n",
    "\n",
    "# Save the cleaned dataset to a new file\n",
    "data.to_csv('C:/Users/thanm/cleaned_laptop_data.csv', index=False)\n"
   ]
  },
  {
   "cell_type": "code",
   "execution_count": 526,
   "id": "3be0ff56-db41-4c45-a35a-c4990c26ced3",
   "metadata": {},
   "outputs": [
    {
     "data": {
      "text/plain": [
       "S.No               0\n",
       "Brand              0\n",
       "Name               0\n",
       "Price              0\n",
       "Processor_Name     0\n",
       "Processor_Brand    0\n",
       "RAM_Expandable     0\n",
       "RAM                0\n",
       "RAM_TYPE           0\n",
       "Ghz                0\n",
       "Display_type       0\n",
       "Display            0\n",
       "GPU                0\n",
       "GPU_Brand          0\n",
       "SSD                0\n",
       "HDD                0\n",
       "Adapter            0\n",
       "Battery_Life       0\n",
       "model_name         0\n",
       "screen_size        0\n",
       "ram                0\n",
       "os                 0\n",
       "customer_review    0\n",
       "dtype: int64"
      ]
     },
     "execution_count": 526,
     "metadata": {},
     "output_type": "execute_result"
    }
   ],
   "source": [
    "data.isnull().sum()"
   ]
  },
  {
   "cell_type": "code",
   "execution_count": 528,
   "id": "82d72bb9-e0fd-454c-83ba-a75aac1bf4c7",
   "metadata": {},
   "outputs": [
    {
     "name": "stdout",
     "output_type": "stream",
     "text": [
      "0    275.880\n",
      "1    435.468\n",
      "2    942.000\n",
      "3    665.880\n",
      "4    263.880\n",
      "Name: Price, dtype: float64\n"
     ]
    },
    {
     "ename": "PermissionError",
     "evalue": "[Errno 13] Permission denied: 'C:/Users/thanm/price_in_dollars_laptop_data.csv'",
     "output_type": "error",
     "traceback": [
      "\u001b[1;31m---------------------------------------------------------------------------\u001b[0m",
      "\u001b[1;31mPermissionError\u001b[0m                           Traceback (most recent call last)",
      "Cell \u001b[1;32mIn[528], line 16\u001b[0m\n\u001b[0;32m     13\u001b[0m \u001b[38;5;66;03m# Print the updated Price column to confirm\u001b[39;00m\n\u001b[0;32m     14\u001b[0m \u001b[38;5;28mprint\u001b[39m(data[\u001b[38;5;124m'\u001b[39m\u001b[38;5;124mPrice\u001b[39m\u001b[38;5;124m'\u001b[39m]\u001b[38;5;241m.\u001b[39mhead())\n\u001b[1;32m---> 16\u001b[0m data\u001b[38;5;241m.\u001b[39mto_csv(\u001b[38;5;124m'\u001b[39m\u001b[38;5;124mC:/Users/thanm/price_in_dollars_laptop_data.csv\u001b[39m\u001b[38;5;124m'\u001b[39m, index\u001b[38;5;241m=\u001b[39m\u001b[38;5;28;01mFalse\u001b[39;00m)\n\u001b[0;32m     18\u001b[0m \u001b[38;5;28mprint\u001b[39m(\u001b[38;5;124m\"\u001b[39m\u001b[38;5;124mPrice column converted to dollars and saved to \u001b[39m\u001b[38;5;124m'\u001b[39m\u001b[38;5;124mprice_in_dollars_laptop_data.csv\u001b[39m\u001b[38;5;124m'\u001b[39m\u001b[38;5;124m.\u001b[39m\u001b[38;5;124m\"\u001b[39m)\n",
      "File \u001b[1;32m~\\anaconda3\\Lib\\site-packages\\pandas\\util\\_decorators.py:333\u001b[0m, in \u001b[0;36mdeprecate_nonkeyword_arguments.<locals>.decorate.<locals>.wrapper\u001b[1;34m(*args, **kwargs)\u001b[0m\n\u001b[0;32m    327\u001b[0m \u001b[38;5;28;01mif\u001b[39;00m \u001b[38;5;28mlen\u001b[39m(args) \u001b[38;5;241m>\u001b[39m num_allow_args:\n\u001b[0;32m    328\u001b[0m     warnings\u001b[38;5;241m.\u001b[39mwarn(\n\u001b[0;32m    329\u001b[0m         msg\u001b[38;5;241m.\u001b[39mformat(arguments\u001b[38;5;241m=\u001b[39m_format_argument_list(allow_args)),\n\u001b[0;32m    330\u001b[0m         \u001b[38;5;167;01mFutureWarning\u001b[39;00m,\n\u001b[0;32m    331\u001b[0m         stacklevel\u001b[38;5;241m=\u001b[39mfind_stack_level(),\n\u001b[0;32m    332\u001b[0m     )\n\u001b[1;32m--> 333\u001b[0m \u001b[38;5;28;01mreturn\u001b[39;00m func(\u001b[38;5;241m*\u001b[39margs, \u001b[38;5;241m*\u001b[39m\u001b[38;5;241m*\u001b[39mkwargs)\n",
      "File \u001b[1;32m~\\anaconda3\\Lib\\site-packages\\pandas\\core\\generic.py:3967\u001b[0m, in \u001b[0;36mNDFrame.to_csv\u001b[1;34m(self, path_or_buf, sep, na_rep, float_format, columns, header, index, index_label, mode, encoding, compression, quoting, quotechar, lineterminator, chunksize, date_format, doublequote, escapechar, decimal, errors, storage_options)\u001b[0m\n\u001b[0;32m   3956\u001b[0m df \u001b[38;5;241m=\u001b[39m \u001b[38;5;28mself\u001b[39m \u001b[38;5;28;01mif\u001b[39;00m \u001b[38;5;28misinstance\u001b[39m(\u001b[38;5;28mself\u001b[39m, ABCDataFrame) \u001b[38;5;28;01melse\u001b[39;00m \u001b[38;5;28mself\u001b[39m\u001b[38;5;241m.\u001b[39mto_frame()\n\u001b[0;32m   3958\u001b[0m formatter \u001b[38;5;241m=\u001b[39m DataFrameFormatter(\n\u001b[0;32m   3959\u001b[0m     frame\u001b[38;5;241m=\u001b[39mdf,\n\u001b[0;32m   3960\u001b[0m     header\u001b[38;5;241m=\u001b[39mheader,\n\u001b[1;32m   (...)\u001b[0m\n\u001b[0;32m   3964\u001b[0m     decimal\u001b[38;5;241m=\u001b[39mdecimal,\n\u001b[0;32m   3965\u001b[0m )\n\u001b[1;32m-> 3967\u001b[0m \u001b[38;5;28;01mreturn\u001b[39;00m DataFrameRenderer(formatter)\u001b[38;5;241m.\u001b[39mto_csv(\n\u001b[0;32m   3968\u001b[0m     path_or_buf,\n\u001b[0;32m   3969\u001b[0m     lineterminator\u001b[38;5;241m=\u001b[39mlineterminator,\n\u001b[0;32m   3970\u001b[0m     sep\u001b[38;5;241m=\u001b[39msep,\n\u001b[0;32m   3971\u001b[0m     encoding\u001b[38;5;241m=\u001b[39mencoding,\n\u001b[0;32m   3972\u001b[0m     errors\u001b[38;5;241m=\u001b[39merrors,\n\u001b[0;32m   3973\u001b[0m     compression\u001b[38;5;241m=\u001b[39mcompression,\n\u001b[0;32m   3974\u001b[0m     quoting\u001b[38;5;241m=\u001b[39mquoting,\n\u001b[0;32m   3975\u001b[0m     columns\u001b[38;5;241m=\u001b[39mcolumns,\n\u001b[0;32m   3976\u001b[0m     index_label\u001b[38;5;241m=\u001b[39mindex_label,\n\u001b[0;32m   3977\u001b[0m     mode\u001b[38;5;241m=\u001b[39mmode,\n\u001b[0;32m   3978\u001b[0m     chunksize\u001b[38;5;241m=\u001b[39mchunksize,\n\u001b[0;32m   3979\u001b[0m     quotechar\u001b[38;5;241m=\u001b[39mquotechar,\n\u001b[0;32m   3980\u001b[0m     date_format\u001b[38;5;241m=\u001b[39mdate_format,\n\u001b[0;32m   3981\u001b[0m     doublequote\u001b[38;5;241m=\u001b[39mdoublequote,\n\u001b[0;32m   3982\u001b[0m     escapechar\u001b[38;5;241m=\u001b[39mescapechar,\n\u001b[0;32m   3983\u001b[0m     storage_options\u001b[38;5;241m=\u001b[39mstorage_options,\n\u001b[0;32m   3984\u001b[0m )\n",
      "File \u001b[1;32m~\\anaconda3\\Lib\\site-packages\\pandas\\io\\formats\\format.py:1014\u001b[0m, in \u001b[0;36mDataFrameRenderer.to_csv\u001b[1;34m(self, path_or_buf, encoding, sep, columns, index_label, mode, compression, quoting, quotechar, lineterminator, chunksize, date_format, doublequote, escapechar, errors, storage_options)\u001b[0m\n\u001b[0;32m    993\u001b[0m     created_buffer \u001b[38;5;241m=\u001b[39m \u001b[38;5;28;01mFalse\u001b[39;00m\n\u001b[0;32m    995\u001b[0m csv_formatter \u001b[38;5;241m=\u001b[39m CSVFormatter(\n\u001b[0;32m    996\u001b[0m     path_or_buf\u001b[38;5;241m=\u001b[39mpath_or_buf,\n\u001b[0;32m    997\u001b[0m     lineterminator\u001b[38;5;241m=\u001b[39mlineterminator,\n\u001b[1;32m   (...)\u001b[0m\n\u001b[0;32m   1012\u001b[0m     formatter\u001b[38;5;241m=\u001b[39m\u001b[38;5;28mself\u001b[39m\u001b[38;5;241m.\u001b[39mfmt,\n\u001b[0;32m   1013\u001b[0m )\n\u001b[1;32m-> 1014\u001b[0m csv_formatter\u001b[38;5;241m.\u001b[39msave()\n\u001b[0;32m   1016\u001b[0m \u001b[38;5;28;01mif\u001b[39;00m created_buffer:\n\u001b[0;32m   1017\u001b[0m     \u001b[38;5;28;01massert\u001b[39;00m \u001b[38;5;28misinstance\u001b[39m(path_or_buf, StringIO)\n",
      "File \u001b[1;32m~\\anaconda3\\Lib\\site-packages\\pandas\\io\\formats\\csvs.py:251\u001b[0m, in \u001b[0;36mCSVFormatter.save\u001b[1;34m(self)\u001b[0m\n\u001b[0;32m    247\u001b[0m \u001b[38;5;250m\u001b[39m\u001b[38;5;124;03m\"\"\"\u001b[39;00m\n\u001b[0;32m    248\u001b[0m \u001b[38;5;124;03mCreate the writer & save.\u001b[39;00m\n\u001b[0;32m    249\u001b[0m \u001b[38;5;124;03m\"\"\"\u001b[39;00m\n\u001b[0;32m    250\u001b[0m \u001b[38;5;66;03m# apply compression and byte/text conversion\u001b[39;00m\n\u001b[1;32m--> 251\u001b[0m \u001b[38;5;28;01mwith\u001b[39;00m get_handle(\n\u001b[0;32m    252\u001b[0m     \u001b[38;5;28mself\u001b[39m\u001b[38;5;241m.\u001b[39mfilepath_or_buffer,\n\u001b[0;32m    253\u001b[0m     \u001b[38;5;28mself\u001b[39m\u001b[38;5;241m.\u001b[39mmode,\n\u001b[0;32m    254\u001b[0m     encoding\u001b[38;5;241m=\u001b[39m\u001b[38;5;28mself\u001b[39m\u001b[38;5;241m.\u001b[39mencoding,\n\u001b[0;32m    255\u001b[0m     errors\u001b[38;5;241m=\u001b[39m\u001b[38;5;28mself\u001b[39m\u001b[38;5;241m.\u001b[39merrors,\n\u001b[0;32m    256\u001b[0m     compression\u001b[38;5;241m=\u001b[39m\u001b[38;5;28mself\u001b[39m\u001b[38;5;241m.\u001b[39mcompression,\n\u001b[0;32m    257\u001b[0m     storage_options\u001b[38;5;241m=\u001b[39m\u001b[38;5;28mself\u001b[39m\u001b[38;5;241m.\u001b[39mstorage_options,\n\u001b[0;32m    258\u001b[0m ) \u001b[38;5;28;01mas\u001b[39;00m handles:\n\u001b[0;32m    259\u001b[0m     \u001b[38;5;66;03m# Note: self.encoding is irrelevant here\u001b[39;00m\n\u001b[0;32m    260\u001b[0m     \u001b[38;5;28mself\u001b[39m\u001b[38;5;241m.\u001b[39mwriter \u001b[38;5;241m=\u001b[39m csvlib\u001b[38;5;241m.\u001b[39mwriter(\n\u001b[0;32m    261\u001b[0m         handles\u001b[38;5;241m.\u001b[39mhandle,\n\u001b[0;32m    262\u001b[0m         lineterminator\u001b[38;5;241m=\u001b[39m\u001b[38;5;28mself\u001b[39m\u001b[38;5;241m.\u001b[39mlineterminator,\n\u001b[1;32m   (...)\u001b[0m\n\u001b[0;32m    267\u001b[0m         quotechar\u001b[38;5;241m=\u001b[39m\u001b[38;5;28mself\u001b[39m\u001b[38;5;241m.\u001b[39mquotechar,\n\u001b[0;32m    268\u001b[0m     )\n\u001b[0;32m    270\u001b[0m     \u001b[38;5;28mself\u001b[39m\u001b[38;5;241m.\u001b[39m_save()\n",
      "File \u001b[1;32m~\\anaconda3\\Lib\\site-packages\\pandas\\io\\common.py:873\u001b[0m, in \u001b[0;36mget_handle\u001b[1;34m(path_or_buf, mode, encoding, compression, memory_map, is_text, errors, storage_options)\u001b[0m\n\u001b[0;32m    868\u001b[0m \u001b[38;5;28;01melif\u001b[39;00m \u001b[38;5;28misinstance\u001b[39m(handle, \u001b[38;5;28mstr\u001b[39m):\n\u001b[0;32m    869\u001b[0m     \u001b[38;5;66;03m# Check whether the filename is to be opened in binary mode.\u001b[39;00m\n\u001b[0;32m    870\u001b[0m     \u001b[38;5;66;03m# Binary mode does not support 'encoding' and 'newline'.\u001b[39;00m\n\u001b[0;32m    871\u001b[0m     \u001b[38;5;28;01mif\u001b[39;00m ioargs\u001b[38;5;241m.\u001b[39mencoding \u001b[38;5;129;01mand\u001b[39;00m \u001b[38;5;124m\"\u001b[39m\u001b[38;5;124mb\u001b[39m\u001b[38;5;124m\"\u001b[39m \u001b[38;5;129;01mnot\u001b[39;00m \u001b[38;5;129;01min\u001b[39;00m ioargs\u001b[38;5;241m.\u001b[39mmode:\n\u001b[0;32m    872\u001b[0m         \u001b[38;5;66;03m# Encoding\u001b[39;00m\n\u001b[1;32m--> 873\u001b[0m         handle \u001b[38;5;241m=\u001b[39m \u001b[38;5;28mopen\u001b[39m(\n\u001b[0;32m    874\u001b[0m             handle,\n\u001b[0;32m    875\u001b[0m             ioargs\u001b[38;5;241m.\u001b[39mmode,\n\u001b[0;32m    876\u001b[0m             encoding\u001b[38;5;241m=\u001b[39mioargs\u001b[38;5;241m.\u001b[39mencoding,\n\u001b[0;32m    877\u001b[0m             errors\u001b[38;5;241m=\u001b[39merrors,\n\u001b[0;32m    878\u001b[0m             newline\u001b[38;5;241m=\u001b[39m\u001b[38;5;124m\"\u001b[39m\u001b[38;5;124m\"\u001b[39m,\n\u001b[0;32m    879\u001b[0m         )\n\u001b[0;32m    880\u001b[0m     \u001b[38;5;28;01melse\u001b[39;00m:\n\u001b[0;32m    881\u001b[0m         \u001b[38;5;66;03m# Binary mode\u001b[39;00m\n\u001b[0;32m    882\u001b[0m         handle \u001b[38;5;241m=\u001b[39m \u001b[38;5;28mopen\u001b[39m(handle, ioargs\u001b[38;5;241m.\u001b[39mmode)\n",
      "\u001b[1;31mPermissionError\u001b[0m: [Errno 13] Permission denied: 'C:/Users/thanm/price_in_dollars_laptop_data.csv'"
     ]
    }
   ],
   "source": [
    "import pandas as pd\n",
    "\n",
    "# Load the dataset\n",
    "file_path = 'C:/Users/thanm/cleaned_laptop_data.csv'\n",
    "data = pd.read_csv(file_path)\n",
    "\n",
    "# Define the exchange rate (1 INR to USD)\n",
    "exchange_rate = 0.012\n",
    "\n",
    "# Convert the Price column to dollars and reassign it to the DataFrame\n",
    "data['Price'] = data['Price'].apply(lambda x: x * exchange_rate if pd.notnull(x) else x)\n",
    "\n",
    "# Print the updated Price column to confirm\n",
    "print(data['Price'].head())\n",
    "\n",
    "data.to_csv('C:/Users/thanm/price_in_dollars_laptop_data.csv', index=False)\n",
    "\n",
    "print(\"Price column converted to dollars and saved to 'price_in_dollars_laptop_data.csv'.\")"
   ]
  },
  {
   "cell_type": "code",
   "execution_count": 530,
   "id": "fcd98732-3dad-483a-89b2-a24b7a1ec387",
   "metadata": {},
   "outputs": [
    {
     "data": {
      "text/plain": [
       "(5219, 23)"
      ]
     },
     "execution_count": 530,
     "metadata": {},
     "output_type": "execute_result"
    }
   ],
   "source": [
    "data.shape"
   ]
  },
  {
   "cell_type": "code",
   "execution_count": 532,
   "id": "b5eba4c8-a2eb-4771-bf17-ccab79c45d98",
   "metadata": {},
   "outputs": [
    {
     "data": {
      "text/html": [
       "<div>\n",
       "<style scoped>\n",
       "    .dataframe tbody tr th:only-of-type {\n",
       "        vertical-align: middle;\n",
       "    }\n",
       "\n",
       "    .dataframe tbody tr th {\n",
       "        vertical-align: top;\n",
       "    }\n",
       "\n",
       "    .dataframe thead th {\n",
       "        text-align: right;\n",
       "    }\n",
       "</style>\n",
       "<table border=\"1\" class=\"dataframe\">\n",
       "  <thead>\n",
       "    <tr style=\"text-align: right;\">\n",
       "      <th></th>\n",
       "      <th>S.No</th>\n",
       "      <th>Brand</th>\n",
       "      <th>Name</th>\n",
       "      <th>Price</th>\n",
       "      <th>Processor_Name</th>\n",
       "      <th>Processor_Brand</th>\n",
       "      <th>RAM_Expandable</th>\n",
       "      <th>RAM</th>\n",
       "      <th>RAM_TYPE</th>\n",
       "      <th>Ghz</th>\n",
       "      <th>...</th>\n",
       "      <th>GPU_Brand</th>\n",
       "      <th>SSD</th>\n",
       "      <th>HDD</th>\n",
       "      <th>Adapter</th>\n",
       "      <th>Battery_Life</th>\n",
       "      <th>model_name</th>\n",
       "      <th>screen_size</th>\n",
       "      <th>ram</th>\n",
       "      <th>os</th>\n",
       "      <th>customer_review</th>\n",
       "    </tr>\n",
       "  </thead>\n",
       "  <tbody>\n",
       "    <tr>\n",
       "      <th>0</th>\n",
       "      <td>0</td>\n",
       "      <td>HP</td>\n",
       "      <td>HP Chromebook 11A-NA0002MU (2E4N0PA) Laptop (1...</td>\n",
       "      <td>275.880</td>\n",
       "      <td>MediaTek Octa-core</td>\n",
       "      <td>MediaTek</td>\n",
       "      <td>Not Expandable</td>\n",
       "      <td>4 GB</td>\n",
       "      <td>DDR4 RAM</td>\n",
       "      <td>2.0 Ghz Processor</td>\n",
       "      <td>...</td>\n",
       "      <td>MediaTek</td>\n",
       "      <td>64 GB SSD Storage</td>\n",
       "      <td>No HDD</td>\n",
       "      <td>45</td>\n",
       "      <td>Upto 12 Hrs Battery Life</td>\n",
       "      <td>HP Chromebook 11A-NA0002MU</td>\n",
       "      <td>11.6</td>\n",
       "      <td>4</td>\n",
       "      <td>Chrome</td>\n",
       "      <td>i also feel like apple hides too much under th...</td>\n",
       "    </tr>\n",
       "    <tr>\n",
       "      <th>1</th>\n",
       "      <td>1</td>\n",
       "      <td>Lenovo</td>\n",
       "      <td>Lenovo Ideapad Slim 3 (82KU017KIN) Laptop (15....</td>\n",
       "      <td>435.468</td>\n",
       "      <td>AMD Hexa-Core Ryzen 5</td>\n",
       "      <td>AMD</td>\n",
       "      <td>12 GB Expandable</td>\n",
       "      <td>8 GB</td>\n",
       "      <td>DDR4 RAM</td>\n",
       "      <td>4.0 Ghz Processor</td>\n",
       "      <td>...</td>\n",
       "      <td>AMD</td>\n",
       "      <td>512 GB SSD Storage</td>\n",
       "      <td>No HDD</td>\n",
       "      <td>65</td>\n",
       "      <td>Upto 11 Hrs Battery Life</td>\n",
       "      <td>Lenovo Ideapad Slim 3</td>\n",
       "      <td>15.6</td>\n",
       "      <td>8</td>\n",
       "      <td>Windows 11</td>\n",
       "      <td>after my 3rd boot up it ' s damaged .</td>\n",
       "    </tr>\n",
       "    <tr>\n",
       "      <th>2</th>\n",
       "      <td>2</td>\n",
       "      <td>Dell</td>\n",
       "      <td>Dell G15-5520 (D560822WIN9B) Laptop (15.6 Inch...</td>\n",
       "      <td>942.000</td>\n",
       "      <td>Intel Core i5 (12th Gen)</td>\n",
       "      <td>Intel</td>\n",
       "      <td>32 GB Expandable</td>\n",
       "      <td>16 GB</td>\n",
       "      <td>DDR5 RAM</td>\n",
       "      <td>3.3 Ghz Processor</td>\n",
       "      <td>...</td>\n",
       "      <td>NVIDIA</td>\n",
       "      <td>512 GB SSD Storage</td>\n",
       "      <td>No HDD</td>\n",
       "      <td>56</td>\n",
       "      <td>Upto 10 Hrs Battery Life</td>\n",
       "      <td>Dell G15-5520</td>\n",
       "      <td>15.6</td>\n",
       "      <td>16</td>\n",
       "      <td>Windows 11</td>\n",
       "      <td>would have been 5 stars if the keyboard was ba...</td>\n",
       "    </tr>\n",
       "    <tr>\n",
       "      <th>3</th>\n",
       "      <td>3</td>\n",
       "      <td>HP</td>\n",
       "      <td>HP 15s-fy5007TU (91R03PA) Laptop (15.6 Inch | ...</td>\n",
       "      <td>665.880</td>\n",
       "      <td>Intel Core i5 (12th Gen)</td>\n",
       "      <td>Intel</td>\n",
       "      <td>8 GB Expandable</td>\n",
       "      <td>8 GB</td>\n",
       "      <td>DDR4 RAM</td>\n",
       "      <td>4.2 Ghz Processor</td>\n",
       "      <td>...</td>\n",
       "      <td>Intel</td>\n",
       "      <td>512 GB SSD Storage</td>\n",
       "      <td>No HDD</td>\n",
       "      <td>no</td>\n",
       "      <td>Upto 7.30 Hrs Battery Life</td>\n",
       "      <td>HP 15s-fy5007TU</td>\n",
       "      <td>15.6</td>\n",
       "      <td>8</td>\n",
       "      <td>Windows 11</td>\n",
       "      <td>its really quick at loading web pages .</td>\n",
       "    </tr>\n",
       "    <tr>\n",
       "      <th>4</th>\n",
       "      <td>4</td>\n",
       "      <td>Infinix</td>\n",
       "      <td>Infinix Inbook Y2 Plus XL29 Laptop (15.6 Inch ...</td>\n",
       "      <td>263.880</td>\n",
       "      <td>Intel Core i3 (11th Gen)</td>\n",
       "      <td>Intel</td>\n",
       "      <td>Not Expandable</td>\n",
       "      <td>8 GB LP</td>\n",
       "      <td>LPDDR4X RAM</td>\n",
       "      <td>1.7 Ghz Processor</td>\n",
       "      <td>...</td>\n",
       "      <td>Intel</td>\n",
       "      <td>512 GB SSD Storage</td>\n",
       "      <td>No HDD</td>\n",
       "      <td>45</td>\n",
       "      <td>Upto 8 Hrs Battery Life</td>\n",
       "      <td>Infinix Inbook Y2 Plus XL29 Laptop</td>\n",
       "      <td>15.6</td>\n",
       "      <td>8</td>\n",
       "      <td>Windows 11</td>\n",
       "      <td>2nd problem was the game card was damaged and ...</td>\n",
       "    </tr>\n",
       "  </tbody>\n",
       "</table>\n",
       "<p>5 rows × 23 columns</p>\n",
       "</div>"
      ],
      "text/plain": [
       "   S.No    Brand                                               Name    Price  \\\n",
       "0     0       HP  HP Chromebook 11A-NA0002MU (2E4N0PA) Laptop (1...  275.880   \n",
       "1     1   Lenovo  Lenovo Ideapad Slim 3 (82KU017KIN) Laptop (15....  435.468   \n",
       "2     2     Dell  Dell G15-5520 (D560822WIN9B) Laptop (15.6 Inch...  942.000   \n",
       "3     3       HP  HP 15s-fy5007TU (91R03PA) Laptop (15.6 Inch | ...  665.880   \n",
       "4     4  Infinix  Infinix Inbook Y2 Plus XL29 Laptop (15.6 Inch ...  263.880   \n",
       "\n",
       "             Processor_Name Processor_Brand     RAM_Expandable      RAM  \\\n",
       "0        MediaTek Octa-core        MediaTek     Not Expandable    4 GB    \n",
       "1     AMD Hexa-Core Ryzen 5             AMD   12 GB Expandable    8 GB    \n",
       "2  Intel Core i5 (12th Gen)           Intel   32 GB Expandable   16 GB    \n",
       "3  Intel Core i5 (12th Gen)           Intel    8 GB Expandable    8 GB    \n",
       "4  Intel Core i3 (11th Gen)           Intel     Not Expandable  8 GB LP   \n",
       "\n",
       "       RAM_TYPE                 Ghz  ... GPU_Brand                 SSD  \\\n",
       "0      DDR4 RAM   2.0 Ghz Processor  ...  MediaTek   64 GB SSD Storage   \n",
       "1     DDR4 RAM    4.0 Ghz Processor  ...       AMD  512 GB SSD Storage   \n",
       "2     DDR5 RAM    3.3 Ghz Processor  ...    NVIDIA  512 GB SSD Storage   \n",
       "3     DDR4 RAM    4.2 Ghz Processor  ...     Intel  512 GB SSD Storage   \n",
       "4   LPDDR4X RAM   1.7 Ghz Processor  ...     Intel  512 GB SSD Storage   \n",
       "\n",
       "      HDD Adapter                Battery_Life  \\\n",
       "0  No HDD      45    Upto 12 Hrs Battery Life   \n",
       "1  No HDD      65    Upto 11 Hrs Battery Life   \n",
       "2  No HDD      56    Upto 10 Hrs Battery Life   \n",
       "3  No HDD      no  Upto 7.30 Hrs Battery Life   \n",
       "4  No HDD      45     Upto 8 Hrs Battery Life   \n",
       "\n",
       "                           model_name screen_size ram          os  \\\n",
       "0          HP Chromebook 11A-NA0002MU        11.6   4      Chrome   \n",
       "1               Lenovo Ideapad Slim 3        15.6   8  Windows 11   \n",
       "2                       Dell G15-5520        15.6  16  Windows 11   \n",
       "3                     HP 15s-fy5007TU        15.6   8  Windows 11   \n",
       "4  Infinix Inbook Y2 Plus XL29 Laptop        15.6   8  Windows 11   \n",
       "\n",
       "                                     customer_review  \n",
       "0  i also feel like apple hides too much under th...  \n",
       "1              after my 3rd boot up it ' s damaged .  \n",
       "2  would have been 5 stars if the keyboard was ba...  \n",
       "3            its really quick at loading web pages .  \n",
       "4  2nd problem was the game card was damaged and ...  \n",
       "\n",
       "[5 rows x 23 columns]"
      ]
     },
     "execution_count": 532,
     "metadata": {},
     "output_type": "execute_result"
    }
   ],
   "source": [
    "data.head()"
   ]
  },
  {
   "cell_type": "code",
   "execution_count": 534,
   "id": "12f91904-b1a3-4c8f-94cf-377a5fcbdb83",
   "metadata": {},
   "outputs": [
    {
     "data": {
      "text/plain": [
       "S.No                 int64\n",
       "Brand               object\n",
       "Name                object\n",
       "Price              float64\n",
       "Processor_Name      object\n",
       "Processor_Brand     object\n",
       "RAM_Expandable      object\n",
       "RAM                 object\n",
       "RAM_TYPE            object\n",
       "Ghz                 object\n",
       "Display_type        object\n",
       "Display             object\n",
       "GPU                 object\n",
       "GPU_Brand           object\n",
       "SSD                 object\n",
       "HDD                 object\n",
       "Adapter             object\n",
       "Battery_Life        object\n",
       "model_name          object\n",
       "screen_size         object\n",
       "ram                 object\n",
       "os                  object\n",
       "customer_review     object\n",
       "dtype: object"
      ]
     },
     "execution_count": 534,
     "metadata": {},
     "output_type": "execute_result"
    }
   ],
   "source": [
    "data.dtypes\n"
   ]
  },
  {
   "cell_type": "code",
   "execution_count": 540,
   "id": "f92142df-a242-416d-8b99-27a5f202002b",
   "metadata": {},
   "outputs": [
    {
     "name": "stdout",
     "output_type": "stream",
     "text": [
      "0     4\n",
      "1     8\n",
      "2    16\n",
      "3     8\n",
      "4     8\n",
      "Name: RAM, dtype: int32\n",
      "RAM column updated and saved permanently.\n"
     ]
    }
   ],
   "source": [
    "\n",
    "# Clean the RAM column by removing non-numeric characters and converting to integers\n",
    "\n",
    "# Ensure the RAM column is treated as strings and clean it\n",
    "data['RAM'] = (\n",
    "    data['RAM']\n",
    "    .astype(str)                # Convert to string\n",
    "    .str.extract(r'(\\d+)')      # Extract only the numeric part\n",
    "    .astype(float)              # Convert to float (if necessary)\n",
    "    .astype(int)                # Convert to integer\n",
    ")\n",
    "\n",
    "\n",
    "# Confirm the changes by printing the first few rows of the RAM column\n",
    "print(data['RAM'].head())\n",
    "\n",
    "# Save the updated dataset back to the same file\n",
    "data.to_csv('C:/Users/thanm/price_in_dollars_laptop_data.csv', index=False)\n",
    "\n",
    "print(\"RAM column updated and saved permanently.\")\n"
   ]
  },
  {
   "cell_type": "code",
   "execution_count": 542,
   "id": "402d5783-093c-43bc-a563-ce5aca18e4a7",
   "metadata": {},
   "outputs": [
    {
     "name": "stdout",
     "output_type": "stream",
     "text": [
      "0    2.0\n",
      "1    4.0\n",
      "2    3.3\n",
      "3    4.2\n",
      "4    1.7\n",
      "Name: Ghz, dtype: float64\n"
     ]
    }
   ],
   "source": [
    "# Ensure the column is treated as string for string operations\n",
    "data['Ghz'] = data['Ghz'].astype(str)\n",
    "\n",
    "# Remove 'Ghz' from Processor (Ghz) column and convert it to float\n",
    "data['Ghz'] = data['Ghz'].str.extract(r'(\\d+\\.?\\d*)').astype(float)\n",
    "\n",
    "# Confirm the changes by printing the first few rows of the Processor (Ghz) column\n",
    "print(data['Ghz'].head())\n",
    "\n",
    "# Save the updated dataset (optional)\n",
    "data.to_csv('C:/Users/thanm/price_in_dollars_laptop_data.csv', index=False)"
   ]
  },
  {
   "cell_type": "code",
   "execution_count": 544,
   "id": "2570232a-d955-4c77-a018-f82802f22b9c",
   "metadata": {},
   "outputs": [
    {
     "name": "stdout",
     "output_type": "stream",
     "text": [
      "Index(['S.No', 'Brand', 'Name', 'Price', 'Processor_Name', 'Processor_Brand',\n",
      "       'RAM_Expandable', 'RAM', 'RAM_TYPE', 'Ghz', 'Display_type', 'Display',\n",
      "       'GPU', 'GPU_Brand', 'SSD', 'HDD', 'Adapter', 'Battery_Life',\n",
      "       'model_name', 'screen_size', 'ram', 'os', 'customer_review'],\n",
      "      dtype='object')\n"
     ]
    }
   ],
   "source": [
    "print(data.columns)\n"
   ]
  },
  {
   "cell_type": "code",
   "execution_count": 546,
   "id": "7039c420-d513-4ddb-9e79-5d7923c3d9f8",
   "metadata": {},
   "outputs": [
    {
     "name": "stdout",
     "output_type": "stream",
     "text": [
      "Index(['S.No', 'Brand', 'Name', 'Price (in Dollars)', 'Processor_Name',\n",
      "       'Processor_Brand', 'RAM_Expandable', 'RAM (GB)', 'RAM_TYPE', 'Ghz',\n",
      "       'Display_type', 'Display', 'GPU', 'GPU_Brand', 'SSD Storage', 'HDD',\n",
      "       'Adapter', 'Battery_Life', 'model_name', 'screen_size', 'ram', 'os',\n",
      "       'customer_review'],\n",
      "      dtype='object')\n"
     ]
    }
   ],
   "source": [
    "\n",
    "# Rename the columns\n",
    "data.rename(columns={\n",
    "    'Price': 'Price (in Dollars)',\n",
    "    'RAM': 'RAM (GB)',\n",
    "    'SSD': 'SSD Storage'\n",
    "}, inplace=True)\n",
    "\n",
    "# Confirm the changes\n",
    "print(data.columns)\n",
    "\n",
    "# Save the updated dataset (optional)\n",
    "data.to_csv('C:/Users/thanm/price_in_dollars_laptop_data.csv', index=False)\n"
   ]
  },
  {
   "cell_type": "code",
   "execution_count": 548,
   "id": "e398cf72-bb11-44a7-a1b2-a0819a1ff11f",
   "metadata": {},
   "outputs": [
    {
     "name": "stdout",
     "output_type": "stream",
     "text": [
      "Index(['S.No', 'Brand', 'Name', 'Price (in Dollars)', 'Processor_Name',\n",
      "       'Processor_Brand', 'RAM_Expandable', 'RAM (GB)', 'RAM_TYPE', 'Ghz',\n",
      "       'Display_type', 'Display', 'GPU', 'GPU_Brand', 'SSD Storage', 'HDD',\n",
      "       'Adapter', 'Battery_Life', 'model_name', 'screen_size', 'os',\n",
      "       'customer_review'],\n",
      "      dtype='object')\n"
     ]
    }
   ],
   "source": [
    "# Delete the ram column\n",
    "data.drop(columns=['ram'], inplace=True)\n",
    "\n",
    "# Confirm the column is removed\n",
    "print(data.columns)\n",
    "\n",
    "# Save the updated dataset \n",
    "data.to_csv('C:/Users/thanm/price_in_dollars_laptop_data.csv', index=False)"
   ]
  },
  {
   "cell_type": "code",
   "execution_count": 550,
   "id": "cac011b7-582f-41dd-8799-2749cea358bf",
   "metadata": {},
   "outputs": [
    {
     "name": "stdout",
     "output_type": "stream",
     "text": [
      "Index(['S.No', 'Brand', 'Name', 'Price (in Dollars)', 'Processor_Name',\n",
      "       'Processor_Brand', 'RAM_Expandable', 'RAM (GB)', 'RAM_TYPE', 'Ghz',\n",
      "       'Display_type', 'Display', 'GPU', 'GPU_Brand', 'SSD Storage', 'HDD',\n",
      "       'Adapter', 'Battery_Life', 'model_name', 'screen_size (inches)', 'os',\n",
      "       'customer_review'],\n",
      "      dtype='object')\n"
     ]
    }
   ],
   "source": [
    "\n",
    "# Rename the column\n",
    "data.rename(columns={'screen_size': 'screen_size (inches)'}, inplace=True)\n",
    "\n",
    "# Confirm the changes\n",
    "print(data.columns)\n",
    "\n",
    "# Save the updated dataset (optional)\n",
    "\n",
    "data.to_csv('C:/Users/thanm/price_in_dollars_laptop_data.csv', index=False)\n"
   ]
  },
  {
   "cell_type": "code",
   "execution_count": 552,
   "id": "a66bfe65-f0bf-4c78-942f-b6d42e97b5a4",
   "metadata": {},
   "outputs": [
    {
     "name": "stdout",
     "output_type": "stream",
     "text": [
      "0    I Also Feel Like Apple Hides Too Much Under Th...\n",
      "1                After My 3Rd Boot Up It ' S Damaged .\n",
      "2    Would Have Been 5 Stars If The Keyboard Was Ba...\n",
      "3              Its Really Quick At Loading Web Pages .\n",
      "4    2Nd Problem Was The Game Card Was Damaged And ...\n",
      "Name: customer_review, dtype: object\n"
     ]
    }
   ],
   "source": [
    "# Capitalize the first letter of each word in the customer_review column\n",
    "data['customer_review'] = data['customer_review'].str.title()\n",
    "\n",
    "# Confirm the changes\n",
    "print(data['customer_review'].head())\n",
    "\n",
    "# Save the updated dataset (optional)\n",
    "data.to_csv('C:/Users/thanm/price_in_dollars_laptop_data.csv', index=False)"
   ]
  },
  {
   "cell_type": "code",
   "execution_count": 554,
   "id": "49382ecf-2600-408b-b23f-11e4eeb3b8fc",
   "metadata": {},
   "outputs": [
    {
     "name": "stdout",
     "output_type": "stream",
     "text": [
      "Index(['S.No', 'Brand', 'Model_name', 'Price (in Dollars)',\n",
      "       'Processor_specifications', 'Processor_Brand', 'RAM_Expandable',\n",
      "       'RAM (GB)', 'RAM_TYPE', 'Processor (Ghz)', 'Display_type', 'GPU',\n",
      "       'GPU_Brand', 'SSD Storage (GB)', 'HDD Storage (GB)', 'Adapter (Hz)',\n",
      "       'Battery_Life', 'screen_size (inches)', 'os', 'customer_review'],\n",
      "      dtype='object')\n",
      "int32\n",
      "0    45\n",
      "1    65\n",
      "2    56\n",
      "3     0\n",
      "4    45\n",
      "Name: Adapter (Hz), dtype: int32\n"
     ]
    }
   ],
   "source": [
    "# Rename the column\n",
    "data.rename(columns={'Adapter': 'Adapter (Hz)'}, inplace=True)\n",
    "\n",
    "# Replace rows with 'no' to 0 in Adapter (Hz) column\n",
    "data['Adapter (Hz)'] = data['Adapter (Hz)'].replace('no', 0)\n",
    "\n",
    "# Convert Adapter (Hz) column to int data type\n",
    "data['Adapter (Hz)'] = data['Adapter (Hz)'].astype(int)\n",
    "\n",
    "# Rename the columns\n",
    "data.rename(columns={\n",
    "    'Ghz': 'Processor (Ghz)',\n",
    "    'HDD': 'HDD Storage (GB)',\n",
    "    'SSD Storage': 'SSD Storage (GB)',\n",
    "    'Name': 'Model_name',\n",
    "    'Processor_Name': 'Processor_specifications',\n",
    "}, inplace=True)\n",
    "\n",
    "# Remove the columns\n",
    "data.drop(columns=['model_name', 'Display'], inplace=True)\n",
    "\n",
    "# Confirm the changes\n",
    "print(data.columns)\n",
    "\n",
    "# Confirm the changes\n",
    "print(data['Adapter (Hz)'].dtypes)\n",
    "\n",
    "# Confirm the changes\n",
    "print(data['Adapter (Hz)'].head())\n",
    "\n",
    "# Save the updated dataset (optional)\n",
    "data.to_csv('C:/Users/thanm/price_in_dollars_laptop_data.csv', index=False)"
   ]
  },
  {
   "cell_type": "code",
   "execution_count": 556,
   "id": "f102f933-f16f-4188-ada2-7871e65a5a68",
   "metadata": {},
   "outputs": [
    {
     "name": "stdout",
     "output_type": "stream",
     "text": [
      "Index(['S.No', 'Brand', 'Model_name', 'Price (in Dollars)',\n",
      "       'Processor_specifications', 'Processor_Brand', 'RAM_Expandable (GB)',\n",
      "       'RAM (GB)', 'RAM_TYPE', 'Processor (Ghz)', 'Display_type', 'GPU',\n",
      "       'GPU_Brand', 'SSD Storage (GB)', 'HDD Storage (GB)', 'Adapter (Hz)',\n",
      "       'Battery_Life', 'screen_size (inches)', 'os', 'customer_review'],\n",
      "      dtype='object')\n"
     ]
    }
   ],
   "source": [
    "# Rename the column\n",
    "data.rename(columns={'RAM_Expandable': 'RAM_Expandable (GB)'}, inplace=True)\n",
    "\n",
    "# Confirm the changes\n",
    "print(data.columns)\n",
    "\n",
    "# Save the updated dataset (optional)\n",
    "data.to_csv('C:/Users/thanm/price_in_dollars_laptop_data.csv', index=False)"
   ]
  },
  {
   "cell_type": "code",
   "execution_count": 558,
   "id": "c5983fbd-9e93-4cdd-8f5a-fd850191cb87",
   "metadata": {},
   "outputs": [
    {
     "name": "stdout",
     "output_type": "stream",
     "text": [
      "0      Upto 12 Hrs Battery Life\n",
      "1      Upto 11 Hrs Battery Life\n",
      "2      Upto 10 Hrs Battery Life\n",
      "3    Upto 7.30 Hrs Battery Life\n",
      "4       Upto 8 Hrs Battery Life\n",
      "Name: Battery_Life, dtype: object\n"
     ]
    }
   ],
   "source": [
    "import re\n",
    "\n",
    "# Function to extract numerical values and identify units in the Battery_Life column\n",
    "def extract_value_and_unit(battery_life):\n",
    "    match = re.search(r\"(\\d+\\.?\\d*)\\s*(Hrs|W|Wh|Watt|Battery Life|Adapter)?\", str(battery_life), re.IGNORECASE)\n",
    "    if match:\n",
    "        value = float(match.group(1))\n",
    "        unit = match.group(2)\n",
    "        return value, unit\n",
    "    return None, None\n",
    "\n",
    "# Apply the function to extract values and units\n",
    "data['Battery_Value'], data['Battery_Unit'] = zip(*data['Battery_Life'].apply(extract_value_and_unit))\n",
    "\n",
    "# Calculate the median wattage from entries with 'W' or 'Watt'\n",
    "wattage_values = data.loc[data['Battery_Unit'].str.contains('W', na=False, case=False), 'Battery_Value']\n",
    "median_wattage = wattage_values.median()\n",
    "\n",
    "# Define a function to convert wattage to hours using the median wattage as battery capacity\n",
    "def convert_watt_to_hours(value, unit, median_capacity=median_wattage):\n",
    "    if unit and 'W' in unit:\n",
    "        return round(median_capacity / value, 1)  # Conversion using a common battery capacity\n",
    "    return value\n",
    "\n",
    "# Convert wattage values to hours\n",
    "data['Battery_Life_Standardized'] = data.apply(\n",
    "    lambda row: convert_watt_to_hours(row['Battery_Value'], row['Battery_Unit']), axis=1\n",
    ")\n",
    "\n",
    "# Save standardized battery life back to the data and drop temporary columns\n",
    "data.drop(columns=['Battery_Value', 'Battery_Unit'], inplace=True)\n",
    "\n",
    "# Display a preview of the updated data\n",
    "print(data['Battery_Life'].head())\n",
    "\n",
    "# Save the updated data if needed\n",
    "data.to_csv('C:/Users/thanm/price_in_dollars_laptop_data.csv', index=False)\n"
   ]
  },
  {
   "cell_type": "code",
   "execution_count": 560,
   "id": "e7d410c4-3162-4cb0-8702-2aa65efd6eed",
   "metadata": {},
   "outputs": [
    {
     "name": "stdout",
     "output_type": "stream",
     "text": [
      "[ 0 12 32  8 16  4 64 48  2 10]\n",
      "0     0\n",
      "1    12\n",
      "2    32\n",
      "3     8\n",
      "4     0\n",
      "Name: RAM_Expandable (GB), dtype: int32\n"
     ]
    }
   ],
   "source": [
    "\n",
    "\n",
    "# Clean the RAM_Expandable (GB) column\n",
    "data['RAM_Expandable (GB)'] = (\n",
    "    data['RAM_Expandable (GB)']\n",
    "    .astype(str)                                   # Ensure all values are strings\n",
    "    .str.replace('GB', '', regex=False)           # Remove 'GB'\n",
    "    .str.replace('Expandable', '', regex=False)   # Remove 'Expandable'\n",
    "    .str.strip()                                  # Remove extra spaces\n",
    "    .replace(['Not', 'Not Expandable'], '0')      # Replace 'Not' and 'Not Expandable' with 0\n",
    "    .fillna('0')                                  # Replace NaN values with 0\n",
    ")\n",
    "\n",
    "# Convert to int after cleaning\n",
    "data['RAM_Expandable (GB)'] = data['RAM_Expandable (GB)'].astype(int)\n",
    "\n",
    "# Confirm the changes\n",
    "print(data['RAM_Expandable (GB)'].unique())\n",
    "print(data['RAM_Expandable (GB)'].head())\n",
    "\n",
    "# Save the updated data if needed\n",
    "data.to_csv('C:/Users/thanm/price_in_dollars_laptop_data.csv', index=False)"
   ]
  },
  {
   "cell_type": "code",
   "execution_count": 562,
   "id": "ae0d500f-ceb8-461b-b45b-dd0b53a09b23",
   "metadata": {},
   "outputs": [
    {
     "name": "stdout",
     "output_type": "stream",
     "text": [
      "0       DDR4\n",
      "1       DDR4\n",
      "2       DDR5\n",
      "3       DDR4\n",
      "4    LPDDR4X\n",
      "Name: RAM_TYPE, dtype: object\n"
     ]
    }
   ],
   "source": [
    "# Remove the word 'RAM' from all rows in the RAM_TYPE column\n",
    "data['RAM_TYPE'] = data['RAM_TYPE'].str.replace('RAM', '', regex=False).str.strip()\n",
    "\n",
    "# Confirm the changes\n",
    "print(data['RAM_TYPE'].head())\n",
    "\n",
    "# Save the updated data if needed\n",
    "data.to_csv('C:/Users/thanm/price_in_dollars_laptop_data.csv', index=False)"
   ]
  },
  {
   "cell_type": "code",
   "execution_count": 572,
   "id": "1aa5c8b7-930e-4499-9a26-8900ff303458",
   "metadata": {},
   "outputs": [
    {
     "name": "stdout",
     "output_type": "stream",
     "text": [
      "0     64\n",
      "1    512\n",
      "2    512\n",
      "3    512\n",
      "4    512\n",
      "Name: SSD Storage (GB), dtype: int32\n"
     ]
    }
   ],
   "source": [
    "# Clean the SSD Storage (GB) column\n",
    "data['SSD Storage (GB)'] = (\n",
    "    data['SSD Storage (GB)']\n",
    "    .astype(str)                                   # Ensure all values are strings\n",
    "    .str.replace('GB SSD Storage', '', regex=False)  # Remove 'GB SSD Storage'\n",
    "    .str.replace('SSD Storage', '', regex=False)     # Remove 'SSD Storage'\n",
    "    .str.replace('No SSD', '0', regex=False)         # Replace 'No SSD' with '0'\n",
    "    .str.strip()                                    # Remove extra spaces\n",
    "    .fillna('0')                                    # Replace NaN values with '0'\n",
    ")\n",
    "\n",
    "# Convert to int after cleaning\n",
    "try:\n",
    "    data['SSD Storage (GB)'] = data['SSD Storage (GB)'].astype(int)\n",
    "except ValueError as e:\n",
    "    print(\"Error during conversion:\", e)\n",
    "    print(\"Problematic values:\", data['SSD Storage (GB)'].unique())\n",
    "    \n",
    "# Confirm the changes\n",
    "print(data['SSD Storage (GB)'].head())\n",
    "\n",
    "# Save the updated data if needed\n",
    "data.to_csv('C:/Users/thanm/price_in_dollars_laptop_data.csv', index=False)"
   ]
  },
  {
   "cell_type": "code",
   "execution_count": 576,
   "id": "45ccd570-867a-4b2f-acfb-e39a66a0cc3e",
   "metadata": {},
   "outputs": [
    {
     "name": "stdout",
     "output_type": "stream",
     "text": [
      "0    0\n",
      "1    0\n",
      "2    0\n",
      "3    0\n",
      "4    0\n",
      "Name: HDD Storage (GB), dtype: int32\n"
     ]
    }
   ],
   "source": [
    "# Clean the HDD Storage (GB) column\n",
    "data['HDD Storage (GB)'] = (\n",
    "    data['HDD Storage (GB)']\n",
    "    .astype(str)                                   # Ensure all values are strings\n",
    "    .str.replace('GB HDD Storage', '', regex=False)  # Remove 'GB HDD Storage'\n",
    "    .str.replace('HDD Storage', '', regex=False)     # Remove 'HDD Storage'\n",
    "    .str.replace('No HDD', '0', regex=False)         # Replace 'No HDD' with '0'\n",
    "    .str.strip()                                    # Remove extra spaces\n",
    "    .fillna('0')                                    # Replace NaN values with '0'\n",
    ")\n",
    "\n",
    "# Convert to int after cleaning\n",
    "try:\n",
    "    data['HDD Storage (GB)'] = data['HDD Storage (GB)'].astype(int)\n",
    "except ValueError as e:\n",
    "    print(\"Error during conversion:\", e)\n",
    "    print(\"Problematic values:\", data['HDD Storage (GB)'].unique())\n",
    "    \n",
    "# Confirm the changes\n",
    "print(data['HDD Storage (GB)'].head())\n",
    "\n",
    "# Save the updated data if needed\n",
    "data.to_csv('C:/Users/thanm/price_in_dollars_laptop_data.csv', index=False)"
   ]
  },
  {
   "cell_type": "code",
   "execution_count": 578,
   "id": "d68477ee-bc6d-4a38-8740-15b052d383dc",
   "metadata": {},
   "outputs": [
    {
     "data": {
      "text/plain": [
       "Index(['S.No', 'Brand', 'Model_name', 'Price (in Dollars)',\n",
       "       'Processor_specifications', 'Processor_Brand', 'RAM_Expandable (GB)',\n",
       "       'RAM (GB)', 'RAM_TYPE', 'Processor (Ghz)', 'Display_type', 'GPU',\n",
       "       'GPU_Brand', 'SSD Storage (GB)', 'HDD Storage (GB)', 'Adapter (Hz)',\n",
       "       'Battery_Life', 'screen_size (inches)', 'os', 'customer_review',\n",
       "       'Battery_Life_Standardized'],\n",
       "      dtype='object')"
      ]
     },
     "execution_count": 578,
     "metadata": {},
     "output_type": "execute_result"
    }
   ],
   "source": [
    "data.columns"
   ]
  },
  {
   "cell_type": "code",
   "execution_count": 582,
   "id": "61e87bf1-756e-42b9-a753-bc5ae1f24d9c",
   "metadata": {},
   "outputs": [],
   "source": [
    "# Rename the columns\n",
    "data.rename(columns={\n",
    "    'Processor_specifications': 'Processor_Specifications',\n",
    "    'Model_name': 'Model_Name',\n",
    "    'Display_type': 'Display_Type',\n",
    "    'screen_size (inches)': 'Screen_Size (inches)',\n",
    "    'os': 'OS',\n",
    "    'customer_review':'Customer_Review'\n",
    "}, inplace=True)\n",
    "\n",
    "# Save the updated data if needed\n",
    "data.to_csv('C:/Users/thanm/price_in_dollars_laptop_data.csv', index=False)"
   ]
  },
  {
   "cell_type": "code",
   "execution_count": null,
   "id": "aabef103-ead1-4d73-8128-c4473f755e44",
   "metadata": {},
   "outputs": [],
   "source": []
  }
 ],
 "metadata": {
  "kernelspec": {
   "display_name": "Python 3 (ipykernel)",
   "language": "python",
   "name": "python3"
  },
  "language_info": {
   "codemirror_mode": {
    "name": "ipython",
    "version": 3
   },
   "file_extension": ".py",
   "mimetype": "text/x-python",
   "name": "python",
   "nbconvert_exporter": "python",
   "pygments_lexer": "ipython3",
   "version": "3.12.4"
  }
 },
 "nbformat": 4,
 "nbformat_minor": 5
}
